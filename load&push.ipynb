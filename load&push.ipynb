{
 "cells": [
  {
   "cell_type": "code",
   "execution_count": null,
   "id": "80597b8f",
   "metadata": {},
   "outputs": [
    {
     "name": "stdout",
     "output_type": "stream",
     "text": [
      "Connected successfully to: db_raw.db\n",
      "sample_df created successfully\n",
      "(1, '2024-25', 69105110947, 1100170000000.0, 10017, 112607, 4, 'Alameda', 'Alameda County Office of Education', 'Envision Academy for Arts & Technology', 'K-12', 'Active', '8/28/2006 12:00:00 AM', None, 'High', '6', '12', 'Y', '811', 'Directly funded', 'N', 'N', 'Y', 'N', 'ATSI', '1515 Webster St.', 'Oakland', '94612-3355', 'CA', '11 - City, Large', 'http://www.envisionacademy.org/', 207, 61, 29.5, 0, 0.0, 0, 0.0, 0, 0.0, 79, 38.2, 1, 0.5, 8, 3.9, 4, 1.9, 54, 26.1, 23, 11.1, 2, 1.0, 0, 0.0, 0, 0.0, 160, 77.3, 47, 22.7, 153, 73.9, 0, 0, 0, 0, 0, 0, 0, 18, 23, 18, 24, 31, 40, 53, 37.80467596, -122.2683662, 1, 'Alameda', None, None, None, None, 161259.0, 'Oakland Unified', 12, 7, 18, -13610852.27, 4551869.704)\n",
      "(2, '2024-25', 69105112844, 1100170000000.0, 10017, 123968, 4, 'Alameda', 'Alameda County Office of Education', 'Community School for Creative Education', 'Elementary', 'Active', '8/22/2011 12:00:00 AM', None, 'Elementary', 'KG', '8', 'Y', '1284', 'Directly funded', 'N', 'N', 'Y', 'N', 'No Status', '2111 International Blvd.', 'Oakland', '94606-4903', 'CA', '11 - City, Large', 'http://www.communityschoolforcreativeeducation.org', 183, 34, 18.6, 3, 1.6, 9, 4.9, 1, 0.5, 122, 66.7, 1, 0.5, 7, 3.8, 4, 2.2, 2, 1.1, 97, 53.0, 3, 1.6, 0, 0.0, 0, 0.0, 165, 90.2, 30, 16.4, 163, 89.1, 6, 16, 14, 14, 27, 27, 22, 19, 23, 15, 0, 0, 0, 0, 37.78489996, -122.2388002, 1, 'Alameda', None, None, None, None, 161259.0, 'Oakland Unified', 12, 7, 18, -13607560.99, 4549083.797)\n",
      "(3, '2024-25', 69105112901, 1100170000000.0, 10017, 124172, 4, 'Alameda', 'Alameda County Office of Education', 'Yu Ming Charter', 'Elementary', 'Active', '2011-09-08', None, 'Elementary', 'KG', '8', 'Y', '1296', 'Directly funded', 'N', 'N', 'Y', 'N', 'No Status', '2501 Chestnut St.', 'Oakland', '94607-2477', 'CA', '11 - City, Large', 'http://www.yumingschool.org', 959, 79, 8.2, 2, 0.2, 496, 51.7, 29, 3.0, 84, 8.8, 0, 0.0, 53, 5.5, 215, 22.4, 1, 0.1, 165, 17.2, 0, 0.0, 0, 0.0, 0, 0.0, 327, 34.1, 57, 5.9, 325, 33.9, 0, 171, 169, 163, 140, 77, 75, 66, 61, 37, 0, 0, 0, 0, 37.818054, -122.282119, 1, 'Alameda', None, None, None, None, 161259.0, 'Oakland Unified', 12, 7, 18, -13612383.22, 4553754.734)\n",
      "(4, '2024-25', 69105113008, 1100170000000.0, 10017, 125567, 4, 'Alameda', 'Alameda County Office of Education', 'Urban Montessori Charter', 'Elementary', 'Closed', '8/27/2012 12:00:00 AM', '6/30/2025 12:00:00 AM', 'Elementary', 'KG', '8', 'Y', '1383', 'Directly funded', 'N', 'N', 'Y', 'N', 'No Status', '4551 Steele St.', 'Oakland', '94619-3312', 'CA', '11 - City, Large', 'Information Not Available', 343, 66, 19.2, 0, 0.0, 18, 5.2, 2, 0.6, 110, 32.1, 4, 1.2, 98, 28.6, 45, 13.1, 0, 0.0, 25, 7.3, 0, 0.0, 0, 0.0, 0, 0.0, 128, 37.3, 44, 12.8, 128, 37.3, 43, 57, 46, 40, 39, 25, 44, 17, 17, 15, 0, 0, 0, 0, 37.78677196, -122.1879852, 1, 'Alameda', None, None, None, None, 161259.0, 'Oakland Unified', 12, 7, 18, -13601904.29, 4549347.479)\n",
      "(5, '2024-25', 69105109264, 1100170000000.0, 10017, 130401, 4, 'Alameda', 'Alameda County Office of Education', 'Alameda County Juvenile Hall/Court', 'Juvenile Court', 'Active', '1980-01-07', None, 'Other', 'KG', '12', 'N', None, None, 'N', 'N', 'Y', 'Y', 'CSI Grad', '2500 Fairmont Ave.', 'San Leandro', '94578-1005', 'CA', '21 - Suburban, Large', 'http://www.acoe.org', 56, 29, 51.8, 0, 0.0, 0, 0.0, 0, 0.0, 23, 41.1, 0, 0.0, 3, 5.4, 0, 0.0, 1, 1.8, 8, 14.3, 12, 21.4, 2, 3.6, 0, 0.0, 56, 100.0, 21, 37.5, 56, 100.0, 0, 0, 0, 0, 0, 0, 0, 0, 0, 1, 13, 13, 10, 19, 37.71595596, -122.1182372, 1, 'Alameda', None, None, None, None, 161309.0, 'San Lorenzo Unified', 14, 9, 20, -13594139.98, 4539377.261)\n"
     ]
    }
   ],
   "source": [
    "#Data preperation in a machine learning project\n",
    "# load libraries\n",
    "import pandas as pd\n",
    "import sqlite3\n",
    "import os\n",
    "from sqlite3 import Error\n",
    "import matplotlib.pyplot as plt\n",
    "import seaborn as sns\n",
    "import numpy as np\n",
    "import datetime\n",
    "\n",
    "\n",
    "\n",
    "# create connection\n",
    "def create_connection( db_file ):\n",
    "    conn = None\n",
    "    try:\n",
    "        conn= sqlite3.connect(db_file)\n",
    "        print(f\"Connected successfully to: {db_file}\")\n",
    "    except Error as e:\n",
    "        print(e)\n",
    "    return conn\n",
    "\n",
    "#function to excecute querry\n",
    "def execute_query(conn,query):\n",
    "    try :\n",
    "        c=conn.cursor()\n",
    "        c.execute(query)\n",
    "        conn.commit()\n",
    "        print(\"query excecuted successfully\")\n",
    "    except Error as e:\n",
    "        print(e)\n",
    "\n",
    "# function to fetch data from query\n",
    "def fetch_data(conn,query):\n",
    "    try:\n",
    "        c=conn.cursor()\n",
    "        c.execute(query)\n",
    "        rows = c.fetchall()\n",
    "        return rows\n",
    "    except Error as e:\n",
    "        print(e)\n",
    "        return None\n",
    "\n",
    "def create_table_from_df(conn,df,table_name):\n",
    "    df.to_sql(table_name,conn, if_exists = 'replace', index= False )\n",
    "    print(f\"{table_name} created successfully\")\n",
    "\n",
    "#main function \n",
    "def main():\n",
    "    database= \"db_raw.db\"\n",
    "    conn = create_connection(database)\n",
    "    if conn is not None:\n",
    "        db_raw= pd.read_csv(r\"C:\\Users\\HP\\Documents\\edu\\data mining\\ET_Exam_Dennis_Mwai_673\\raw_data.csv\")\n",
    "        df= pd.DataFrame(db_raw)\n",
    "        \n",
    "\n",
    "        # Create table\n",
    "        create_table_from_df(conn,df,'sample_df')\n",
    "        rows= fetch_data(conn, \"SELECT * FROM sample_df LIMIT 5\")\n",
    "        for row in rows:\n",
    "            print(row)\n",
    "    \n",
    "    else:\n",
    "        print(\"Error, couldn't make connection\")\n",
    "\n",
    "if __name__ == '__main__':\n",
    "    main()\n",
    "\n"
   ]
  }
 ],
 "metadata": {
  "kernelspec": {
   "display_name": "Python 3",
   "language": "python",
   "name": "python3"
  },
  "language_info": {
   "codemirror_mode": {
    "name": "ipython",
    "version": 3
   },
   "file_extension": ".py",
   "mimetype": "text/x-python",
   "name": "python",
   "nbconvert_exporter": "python",
   "pygments_lexer": "ipython3",
   "version": "3.13.7"
  }
 },
 "nbformat": 4,
 "nbformat_minor": 5
}
